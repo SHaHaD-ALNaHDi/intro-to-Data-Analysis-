{
 "cells": [
  {
   "cell_type": "markdown",
   "id": "0594c88c",
   "metadata": {},
   "source": [
    "# Introduction to Data analysis libraries"
   ]
  },
  {
   "cell_type": "markdown",
   "id": "65de0376",
   "metadata": {},
   "source": [
    "### Importing"
   ]
  },
  {
   "attachments": {},
   "cell_type": "markdown",
   "id": "c0e467d3",
   "metadata": {},
   "source": [
    "Shahad Omar Bin Kulaib \n",
    "shahadomar234@gmail.com"
   ]
  },
  {
   "cell_type": "code",
   "execution_count": 1,
   "id": "ff68a362",
   "metadata": {},
   "outputs": [],
   "source": [
    "import pandas as pd\n",
    "import numpy as np\n",
    "import numpy.random as ran\n",
    "import matplotlib.pyplot as plt\n",
    "%matplotlib inline\n",
    "import seaborn as sns"
   ]
  },
  {
   "cell_type": "markdown",
   "id": "c80c25c6",
   "metadata": {},
   "source": [
    "# Numpy Library"
   ]
  },
  {
   "cell_type": "code",
   "execution_count": 2,
   "id": "84ed8c23",
   "metadata": {},
   "outputs": [
    {
     "name": "stdout",
     "output_type": "stream",
     "text": [
      "['1' '2' 'a']\n",
      "[1 2 3]\n"
     ]
    }
   ],
   "source": [
    "# Creating an an array in numpy\n",
    "array = np.array([1,2,\"a\"])\n",
    "print(array)\n",
    "\n",
    "\n",
    "# convert Python list to a numpy array\n",
    "list = [1,2,3]\n",
    "array = np.array(list)\n",
    "print(array)\n",
    "\n",
    "# access an index"
   ]
  },
  {
   "cell_type": "code",
   "execution_count": 3,
   "id": "b1a43c77",
   "metadata": {},
   "outputs": [
    {
     "data": {
      "text/plain": [
       "array([0., 0., 0., 0., 0.])"
      ]
     },
     "execution_count": 3,
     "metadata": {},
     "output_type": "execute_result"
    }
   ],
   "source": [
    "# array of zeros\n",
    "z = np.zeros(5)\n",
    "z"
   ]
  },
  {
   "cell_type": "code",
   "execution_count": 4,
   "id": "350b4cbc",
   "metadata": {},
   "outputs": [
    {
     "data": {
      "text/plain": [
       "array([1., 1., 1., 1., 1., 1.])"
      ]
     },
     "execution_count": 4,
     "metadata": {},
     "output_type": "execute_result"
    }
   ],
   "source": [
    "# array of ones\n",
    "ones = np.ones(6)\n",
    "ones"
   ]
  },
  {
   "cell_type": "code",
   "execution_count": 5,
   "id": "d0144edb",
   "metadata": {},
   "outputs": [
    {
     "name": "stdout",
     "output_type": "stream",
     "text": [
      "[0. 1. 2. 3. 4. 5.]\n"
     ]
    }
   ],
   "source": [
    "# create an array in a range of numbers with space between\n",
    "narr = np.linspace(0,5,6)\n",
    "print(narr)"
   ]
  },
  {
   "cell_type": "code",
   "execution_count": 6,
   "id": "ae142496",
   "metadata": {},
   "outputs": [
    {
     "name": "stdout",
     "output_type": "stream",
     "text": [
      "float64\n"
     ]
    }
   ],
   "source": [
    "# check dataType\n",
    "print(narr.dtype)"
   ]
  },
  {
   "cell_type": "code",
   "execution_count": 7,
   "id": "4de2aebc",
   "metadata": {},
   "outputs": [
    {
     "name": "stdout",
     "output_type": "stream",
     "text": [
      "[0 1 2 3 4 5]\n"
     ]
    }
   ],
   "source": [
    "# Convert to int\n",
    "print(narr.astype(int))"
   ]
  },
  {
   "cell_type": "markdown",
   "id": "ed99422b",
   "metadata": {},
   "source": [
    "`"
   ]
  },
  {
   "cell_type": "markdown",
   "id": "9c774d18",
   "metadata": {},
   "source": [
    "### - 2D Array"
   ]
  },
  {
   "cell_type": "code",
   "execution_count": 8,
   "id": "73fb475a",
   "metadata": {},
   "outputs": [
    {
     "name": "stdout",
     "output_type": "stream",
     "text": [
      "2nd element on 1st row:  2\n"
     ]
    }
   ],
   "source": [
    "# creating 2D array\n",
    "arr = np.array([[1,2,3,4,5], [6,7,8,9,10]])\n",
    "\n",
    "# Accessing 2D array element\n",
    "print('2nd element on 1st row: ', arr[0, 1])"
   ]
  },
  {
   "cell_type": "code",
   "execution_count": 9,
   "id": "a0cdfa5a",
   "metadata": {},
   "outputs": [
    {
     "data": {
      "text/plain": [
       "(2, 5)"
      ]
     },
     "execution_count": 9,
     "metadata": {},
     "output_type": "execute_result"
    }
   ],
   "source": [
    "# array shape\n",
    "arr.shape"
   ]
  },
  {
   "cell_type": "markdown",
   "id": "e4380d97",
   "metadata": {},
   "source": [
    "`"
   ]
  },
  {
   "cell_type": "markdown",
   "id": "2193acf2",
   "metadata": {},
   "source": [
    "### - Random Library"
   ]
  },
  {
   "cell_type": "code",
   "execution_count": 10,
   "id": "36233ef0",
   "metadata": {},
   "outputs": [
    {
     "name": "stdout",
     "output_type": "stream",
     "text": [
      "[0 0 9 1 3]\n"
     ]
    }
   ],
   "source": [
    "# Create an array of 5 random integers from 0 to 9\n",
    "array1 = np.random.randint(0, 10, size=5)\n",
    "\n",
    "\n",
    "# use size=(rows, columns)\n",
    "array = np.random.uniform(0, 1, size=(2,3)) \n",
    "\n",
    "\n",
    "print(array1)"
   ]
  },
  {
   "cell_type": "code",
   "execution_count": 11,
   "id": "e88f5c54",
   "metadata": {},
   "outputs": [
    {
     "name": "stdout",
     "output_type": "stream",
     "text": [
      "[0.61054569 0.80281419 0.97135427 0.6799949  0.2231918 ]\n",
      "[[0.24 0.43 0.21]\n",
      " [0.03 0.93 0.54]]\n"
     ]
    }
   ],
   "source": [
    "# Create an array of 5 random floating point numbers from 0.0 to 1.0\n",
    "array = np.random.uniform(0, 1, size=(5)) \n",
    "print(array)\n",
    "\n",
    "\n",
    "# use size=(rows, columns)\n",
    "array = np.random.uniform(0, 1, size=(2,3)) \n",
    "\n",
    "\n",
    "# with 2 digits after the decimal\n",
    "array = array.round(2)\n",
    "print(array)"
   ]
  },
  {
   "cell_type": "markdown",
   "id": "60b8d917",
   "metadata": {},
   "source": [
    "<div class=\"alert alert-success\">\n",
    "<h1> Exercise:</h1><br>\n",
    "    \n",
    "\n",
    "Create a Numpy Array having random integer numbers from -10 to 10, size of the array should be 10: \n",
    "\n"
   ]
  },
  {
   "cell_type": "code",
   "execution_count": 2,
   "id": "7d3b27a8",
   "metadata": {},
   "outputs": [
    {
     "name": "stdout",
     "output_type": "stream",
     "text": [
      "[-3 -7  9  6  0  7 -4  5  8 -3]\n"
     ]
    }
   ],
   "source": [
    "# write your code here\n",
    "array1 = np.random.randint(-10, 11, size=10)\n",
    "\n",
    "# print/show the result\n",
    "print(array1)"
   ]
  },
  {
   "cell_type": "markdown",
   "id": "b4ccf3f9",
   "metadata": {},
   "source": [
    "# Pandas Library\n",
    "<br><br>\n",
    "> Pandas is a Python library used for working with data sets.<br><br>\n",
    "It has functions for analyzing, cleaning, exploring, and manipulating data.\n"
   ]
  },
  {
   "cell_type": "markdown",
   "id": "b2b5e307",
   "metadata": {},
   "source": [
    "## - Pandas Series\n",
    "> A Pandas Series is like a column in a table.<br><br>\n",
    "It is a one-dimensional array holding data of any type.\n",
    "\n",
    "\n",
    "\n"
   ]
  },
  {
   "cell_type": "code",
   "execution_count": 13,
   "id": "de96798d",
   "metadata": {},
   "outputs": [
    {
     "data": {
      "text/plain": [
       "0    75\n",
       "1    76\n",
       "2    88\n",
       "3    90\n",
       "4    86\n",
       "5    97\n",
       "dtype: int64"
      ]
     },
     "execution_count": 13,
     "metadata": {},
     "output_type": "execute_result"
    }
   ],
   "source": [
    "# Create a series\n",
    "grades = [75, 76, 88 , 90, 86, 97]\n",
    "stu_name = [\"Ahmed\", \"Faisal\", \"Yazeed\", \"Saad\", \"Khalid\",\"Mohammed\"]\n",
    "\n",
    "\n",
    "# List to a series\n",
    "grades = pd.Series(grades)\n",
    "grades\n",
    "\n"
   ]
  },
  {
   "cell_type": "markdown",
   "id": "509f8696",
   "metadata": {},
   "source": [
    "## - Pandas DataFrame"
   ]
  },
  {
   "cell_type": "code",
   "execution_count": 14,
   "id": "217e02a5",
   "metadata": {},
   "outputs": [
    {
     "data": {
      "text/plain": [
       "dtype('int64')"
      ]
     },
     "execution_count": 14,
     "metadata": {},
     "output_type": "execute_result"
    }
   ],
   "source": [
    "# Make your DataFrame (DataSet)\n",
    "\n",
    "mydataset = {\n",
    "  'grades': grades,\n",
    "  'stu_name': stu_name\n",
    "}\n",
    "\n",
    "# Convert Your dictionary to DataFrame\n",
    "df = pd.DataFrame(mydataset)\n",
    "\n",
    "df\n",
    "\n",
    "\n",
    "# type of column students\n",
    "df['grades'].dtypes"
   ]
  },
  {
   "cell_type": "markdown",
   "id": "55eabeae",
   "metadata": {},
   "source": [
    "## - Reading Files"
   ]
  },
  {
   "cell_type": "code",
   "execution_count": 15,
   "id": "7f94474e",
   "metadata": {},
   "outputs": [
    {
     "name": "stdout",
     "output_type": "stream",
     "text": [
      "   grades  stu_name  stu_id\n",
      "0    75.0     Ahmed  203000\n",
      "1    76.0    Faisal  203001\n",
      "2    88.0    Yazeed  203002\n",
      "3    90.0      Saad  203003\n",
      "4    86.0    Khalid  203004\n",
      "5    97.0  Mohammed  203005\n",
      "6     NaN     Siraj  203006\n",
      "7    97.0  Mohammed  203005\n"
     ]
    },
    {
     "data": {
      "text/html": [
       "<div>\n",
       "<style scoped>\n",
       "    .dataframe tbody tr th:only-of-type {\n",
       "        vertical-align: middle;\n",
       "    }\n",
       "\n",
       "    .dataframe tbody tr th {\n",
       "        vertical-align: top;\n",
       "    }\n",
       "\n",
       "    .dataframe thead th {\n",
       "        text-align: right;\n",
       "    }\n",
       "</style>\n",
       "<table border=\"1\" class=\"dataframe\">\n",
       "  <thead>\n",
       "    <tr style=\"text-align: right;\">\n",
       "      <th></th>\n",
       "      <th>grades</th>\n",
       "      <th>stu_name</th>\n",
       "      <th>stu_id</th>\n",
       "    </tr>\n",
       "  </thead>\n",
       "  <tbody>\n",
       "    <tr>\n",
       "      <th>0</th>\n",
       "      <td>75.0</td>\n",
       "      <td>Ahmed</td>\n",
       "      <td>203000</td>\n",
       "    </tr>\n",
       "    <tr>\n",
       "      <th>1</th>\n",
       "      <td>76.0</td>\n",
       "      <td>Faisal</td>\n",
       "      <td>203001</td>\n",
       "    </tr>\n",
       "    <tr>\n",
       "      <th>2</th>\n",
       "      <td>88.0</td>\n",
       "      <td>Yazeed</td>\n",
       "      <td>203002</td>\n",
       "    </tr>\n",
       "    <tr>\n",
       "      <th>3</th>\n",
       "      <td>90.0</td>\n",
       "      <td>Saad</td>\n",
       "      <td>203003</td>\n",
       "    </tr>\n",
       "    <tr>\n",
       "      <th>4</th>\n",
       "      <td>86.0</td>\n",
       "      <td>Khalid</td>\n",
       "      <td>203004</td>\n",
       "    </tr>\n",
       "    <tr>\n",
       "      <th>5</th>\n",
       "      <td>97.0</td>\n",
       "      <td>Mohammed</td>\n",
       "      <td>203005</td>\n",
       "    </tr>\n",
       "    <tr>\n",
       "      <th>6</th>\n",
       "      <td>NaN</td>\n",
       "      <td>Siraj</td>\n",
       "      <td>203006</td>\n",
       "    </tr>\n",
       "    <tr>\n",
       "      <th>7</th>\n",
       "      <td>97.0</td>\n",
       "      <td>Mohammed</td>\n",
       "      <td>203005</td>\n",
       "    </tr>\n",
       "  </tbody>\n",
       "</table>\n",
       "</div>"
      ],
      "text/plain": [
       "   grades  stu_name  stu_id\n",
       "0    75.0     Ahmed  203000\n",
       "1    76.0    Faisal  203001\n",
       "2    88.0    Yazeed  203002\n",
       "3    90.0      Saad  203003\n",
       "4    86.0    Khalid  203004\n",
       "5    97.0  Mohammed  203005\n",
       "6     NaN     Siraj  203006\n",
       "7    97.0  Mohammed  203005"
      ]
     },
     "execution_count": 15,
     "metadata": {},
     "output_type": "execute_result"
    }
   ],
   "source": [
    "# read the dataSet file\n",
    "df = pd.read_csv(\"students.csv\")\n",
    "print(df)\n",
    "df"
   ]
  },
  {
   "cell_type": "code",
   "execution_count": 16,
   "id": "b4e51c63",
   "metadata": {},
   "outputs": [
    {
     "data": {
      "text/html": [
       "<div>\n",
       "<style scoped>\n",
       "    .dataframe tbody tr th:only-of-type {\n",
       "        vertical-align: middle;\n",
       "    }\n",
       "\n",
       "    .dataframe tbody tr th {\n",
       "        vertical-align: top;\n",
       "    }\n",
       "\n",
       "    .dataframe thead th {\n",
       "        text-align: right;\n",
       "    }\n",
       "</style>\n",
       "<table border=\"1\" class=\"dataframe\">\n",
       "  <thead>\n",
       "    <tr style=\"text-align: right;\">\n",
       "      <th></th>\n",
       "      <th>grades</th>\n",
       "      <th>stu_name</th>\n",
       "      <th>stu_id</th>\n",
       "    </tr>\n",
       "  </thead>\n",
       "  <tbody>\n",
       "    <tr>\n",
       "      <th>0</th>\n",
       "      <td>75.0</td>\n",
       "      <td>Ahmed</td>\n",
       "      <td>203000</td>\n",
       "    </tr>\n",
       "    <tr>\n",
       "      <th>1</th>\n",
       "      <td>76.0</td>\n",
       "      <td>Faisal</td>\n",
       "      <td>203001</td>\n",
       "    </tr>\n",
       "    <tr>\n",
       "      <th>2</th>\n",
       "      <td>88.0</td>\n",
       "      <td>Yazeed</td>\n",
       "      <td>203002</td>\n",
       "    </tr>\n",
       "    <tr>\n",
       "      <th>3</th>\n",
       "      <td>90.0</td>\n",
       "      <td>Saad</td>\n",
       "      <td>203003</td>\n",
       "    </tr>\n",
       "    <tr>\n",
       "      <th>4</th>\n",
       "      <td>86.0</td>\n",
       "      <td>Khalid</td>\n",
       "      <td>203004</td>\n",
       "    </tr>\n",
       "    <tr>\n",
       "      <th>5</th>\n",
       "      <td>97.0</td>\n",
       "      <td>Mohammed</td>\n",
       "      <td>203005</td>\n",
       "    </tr>\n",
       "    <tr>\n",
       "      <th>6</th>\n",
       "      <td>NaN</td>\n",
       "      <td>Siraj</td>\n",
       "      <td>203006</td>\n",
       "    </tr>\n",
       "    <tr>\n",
       "      <th>7</th>\n",
       "      <td>97.0</td>\n",
       "      <td>Mohammed</td>\n",
       "      <td>203005</td>\n",
       "    </tr>\n",
       "  </tbody>\n",
       "</table>\n",
       "</div>"
      ],
      "text/plain": [
       "   grades  stu_name  stu_id\n",
       "0    75.0     Ahmed  203000\n",
       "1    76.0    Faisal  203001\n",
       "2    88.0    Yazeed  203002\n",
       "3    90.0      Saad  203003\n",
       "4    86.0    Khalid  203004\n",
       "5    97.0  Mohammed  203005\n",
       "6     NaN     Siraj  203006\n",
       "7    97.0  Mohammed  203005"
      ]
     },
     "execution_count": 16,
     "metadata": {},
     "output_type": "execute_result"
    }
   ],
   "source": [
    "# Copy DataFrame, to manipulate freely\n",
    "df2 = df.copy()\n",
    "df2"
   ]
  },
  {
   "cell_type": "markdown",
   "id": "5e23f6ea",
   "metadata": {},
   "source": [
    "## - Inspect Data\n",
    "\n",
    "> - know your data better\n",
    "> - investigate"
   ]
  },
  {
   "cell_type": "code",
   "execution_count": 34,
   "id": "c4da64c3",
   "metadata": {},
   "outputs": [
    {
     "data": {
      "text/html": [
       "<div>\n",
       "<style scoped>\n",
       "    .dataframe tbody tr th:only-of-type {\n",
       "        vertical-align: middle;\n",
       "    }\n",
       "\n",
       "    .dataframe tbody tr th {\n",
       "        vertical-align: top;\n",
       "    }\n",
       "\n",
       "    .dataframe thead th {\n",
       "        text-align: right;\n",
       "    }\n",
       "</style>\n",
       "<table border=\"1\" class=\"dataframe\">\n",
       "  <thead>\n",
       "    <tr style=\"text-align: right;\">\n",
       "      <th></th>\n",
       "      <th>grades</th>\n",
       "      <th>stu_name</th>\n",
       "      <th>stu_id</th>\n",
       "    </tr>\n",
       "  </thead>\n",
       "  <tbody>\n",
       "    <tr>\n",
       "      <th>0</th>\n",
       "      <td>75.0</td>\n",
       "      <td>Ahmed</td>\n",
       "      <td>203000</td>\n",
       "    </tr>\n",
       "    <tr>\n",
       "      <th>1</th>\n",
       "      <td>76.0</td>\n",
       "      <td>Faisal</td>\n",
       "      <td>203001</td>\n",
       "    </tr>\n",
       "    <tr>\n",
       "      <th>2</th>\n",
       "      <td>88.0</td>\n",
       "      <td>Yazeed</td>\n",
       "      <td>203002</td>\n",
       "    </tr>\n",
       "    <tr>\n",
       "      <th>3</th>\n",
       "      <td>90.0</td>\n",
       "      <td>Saad</td>\n",
       "      <td>203003</td>\n",
       "    </tr>\n",
       "    <tr>\n",
       "      <th>4</th>\n",
       "      <td>86.0</td>\n",
       "      <td>Khalid</td>\n",
       "      <td>203004</td>\n",
       "    </tr>\n",
       "  </tbody>\n",
       "</table>\n",
       "</div>"
      ],
      "text/plain": [
       "   grades stu_name  stu_id\n",
       "0    75.0    Ahmed  203000\n",
       "1    76.0   Faisal  203001\n",
       "2    88.0   Yazeed  203002\n",
       "3    90.0     Saad  203003\n",
       "4    86.0   Khalid  203004"
      ]
     },
     "execution_count": 34,
     "metadata": {},
     "output_type": "execute_result"
    }
   ],
   "source": [
    "# using head\n",
    "df2.head()"
   ]
  },
  {
   "cell_type": "code",
   "execution_count": 35,
   "id": "2df8796d",
   "metadata": {
    "scrolled": true
   },
   "outputs": [
    {
     "data": {
      "text/html": [
       "<div>\n",
       "<style scoped>\n",
       "    .dataframe tbody tr th:only-of-type {\n",
       "        vertical-align: middle;\n",
       "    }\n",
       "\n",
       "    .dataframe tbody tr th {\n",
       "        vertical-align: top;\n",
       "    }\n",
       "\n",
       "    .dataframe thead th {\n",
       "        text-align: right;\n",
       "    }\n",
       "</style>\n",
       "<table border=\"1\" class=\"dataframe\">\n",
       "  <thead>\n",
       "    <tr style=\"text-align: right;\">\n",
       "      <th></th>\n",
       "      <th>grades</th>\n",
       "      <th>stu_name</th>\n",
       "      <th>stu_id</th>\n",
       "    </tr>\n",
       "  </thead>\n",
       "  <tbody>\n",
       "    <tr>\n",
       "      <th>3</th>\n",
       "      <td>90.0</td>\n",
       "      <td>Saad</td>\n",
       "      <td>203003</td>\n",
       "    </tr>\n",
       "    <tr>\n",
       "      <th>4</th>\n",
       "      <td>86.0</td>\n",
       "      <td>Khalid</td>\n",
       "      <td>203004</td>\n",
       "    </tr>\n",
       "    <tr>\n",
       "      <th>5</th>\n",
       "      <td>97.0</td>\n",
       "      <td>Mohammed</td>\n",
       "      <td>203005</td>\n",
       "    </tr>\n",
       "    <tr>\n",
       "      <th>6</th>\n",
       "      <td>NaN</td>\n",
       "      <td>Siraj</td>\n",
       "      <td>203006</td>\n",
       "    </tr>\n",
       "    <tr>\n",
       "      <th>7</th>\n",
       "      <td>97.0</td>\n",
       "      <td>Mohammed</td>\n",
       "      <td>203005</td>\n",
       "    </tr>\n",
       "  </tbody>\n",
       "</table>\n",
       "</div>"
      ],
      "text/plain": [
       "   grades  stu_name  stu_id\n",
       "3    90.0      Saad  203003\n",
       "4    86.0    Khalid  203004\n",
       "5    97.0  Mohammed  203005\n",
       "6     NaN     Siraj  203006\n",
       "7    97.0  Mohammed  203005"
      ]
     },
     "execution_count": 35,
     "metadata": {},
     "output_type": "execute_result"
    }
   ],
   "source": [
    "# using tail\n",
    "df2.tail()"
   ]
  },
  {
   "cell_type": "code",
   "execution_count": 36,
   "id": "c96e732d",
   "metadata": {},
   "outputs": [
    {
     "data": {
      "text/plain": [
       "(8, 3)"
      ]
     },
     "execution_count": 36,
     "metadata": {},
     "output_type": "execute_result"
    }
   ],
   "source": [
    "# DataFrame Shape\n",
    "df2.shape"
   ]
  },
  {
   "cell_type": "code",
   "execution_count": 37,
   "id": "40bc0ac4",
   "metadata": {},
   "outputs": [
    {
     "data": {
      "text/plain": [
       "8"
      ]
     },
     "execution_count": 37,
     "metadata": {},
     "output_type": "execute_result"
    }
   ],
   "source": [
    "# number of rows\n",
    "len(df2)"
   ]
  },
  {
   "cell_type": "code",
   "execution_count": 38,
   "id": "c071a29d",
   "metadata": {},
   "outputs": [
    {
     "data": {
      "text/plain": [
       "grades      float64\n",
       "stu_name     object\n",
       "stu_id        int64\n",
       "dtype: object"
      ]
     },
     "execution_count": 38,
     "metadata": {},
     "output_type": "execute_result"
    }
   ],
   "source": [
    "# check DataFrame dataTypes\n",
    "df2.dtypes"
   ]
  },
  {
   "cell_type": "code",
   "execution_count": 39,
   "id": "8a70b921",
   "metadata": {},
   "outputs": [
    {
     "name": "stdout",
     "output_type": "stream",
     "text": [
      "<class 'pandas.core.frame.DataFrame'>\n",
      "RangeIndex: 8 entries, 0 to 7\n",
      "Data columns (total 3 columns):\n",
      " #   Column    Non-Null Count  Dtype  \n",
      "---  ------    --------------  -----  \n",
      " 0   grades    7 non-null      float64\n",
      " 1   stu_name  8 non-null      object \n",
      " 2   stu_id    8 non-null      int64  \n",
      "dtypes: float64(1), int64(1), object(1)\n",
      "memory usage: 320.0+ bytes\n"
     ]
    }
   ],
   "source": [
    "# DataFrame info\n",
    "df2.info()"
   ]
  },
  {
   "cell_type": "code",
   "execution_count": 40,
   "id": "4b34f739",
   "metadata": {},
   "outputs": [
    {
     "data": {
      "text/html": [
       "<div>\n",
       "<style scoped>\n",
       "    .dataframe tbody tr th:only-of-type {\n",
       "        vertical-align: middle;\n",
       "    }\n",
       "\n",
       "    .dataframe tbody tr th {\n",
       "        vertical-align: top;\n",
       "    }\n",
       "\n",
       "    .dataframe thead th {\n",
       "        text-align: right;\n",
       "    }\n",
       "</style>\n",
       "<table border=\"1\" class=\"dataframe\">\n",
       "  <thead>\n",
       "    <tr style=\"text-align: right;\">\n",
       "      <th></th>\n",
       "      <th>grades</th>\n",
       "      <th>stu_id</th>\n",
       "    </tr>\n",
       "  </thead>\n",
       "  <tbody>\n",
       "    <tr>\n",
       "      <th>count</th>\n",
       "      <td>7.000000</td>\n",
       "      <td>8.00000</td>\n",
       "    </tr>\n",
       "    <tr>\n",
       "      <th>mean</th>\n",
       "      <td>87.000000</td>\n",
       "      <td>203003.25000</td>\n",
       "    </tr>\n",
       "    <tr>\n",
       "      <th>std</th>\n",
       "      <td>8.906926</td>\n",
       "      <td>2.12132</td>\n",
       "    </tr>\n",
       "    <tr>\n",
       "      <th>min</th>\n",
       "      <td>75.000000</td>\n",
       "      <td>203000.00000</td>\n",
       "    </tr>\n",
       "    <tr>\n",
       "      <th>25%</th>\n",
       "      <td>81.000000</td>\n",
       "      <td>203001.75000</td>\n",
       "    </tr>\n",
       "    <tr>\n",
       "      <th>50%</th>\n",
       "      <td>88.000000</td>\n",
       "      <td>203003.50000</td>\n",
       "    </tr>\n",
       "    <tr>\n",
       "      <th>75%</th>\n",
       "      <td>93.500000</td>\n",
       "      <td>203005.00000</td>\n",
       "    </tr>\n",
       "    <tr>\n",
       "      <th>max</th>\n",
       "      <td>97.000000</td>\n",
       "      <td>203006.00000</td>\n",
       "    </tr>\n",
       "  </tbody>\n",
       "</table>\n",
       "</div>"
      ],
      "text/plain": [
       "          grades        stu_id\n",
       "count   7.000000       8.00000\n",
       "mean   87.000000  203003.25000\n",
       "std     8.906926       2.12132\n",
       "min    75.000000  203000.00000\n",
       "25%    81.000000  203001.75000\n",
       "50%    88.000000  203003.50000\n",
       "75%    93.500000  203005.00000\n",
       "max    97.000000  203006.00000"
      ]
     },
     "execution_count": 40,
     "metadata": {},
     "output_type": "execute_result"
    }
   ],
   "source": [
    "# describe DataFrame \n",
    "df2.describe()"
   ]
  },
  {
   "cell_type": "code",
   "execution_count": 41,
   "id": "7a08b5a0",
   "metadata": {
    "scrolled": true
   },
   "outputs": [
    {
     "data": {
      "text/plain": [
       "0    False\n",
       "1    False\n",
       "2    False\n",
       "3    False\n",
       "4    False\n",
       "5    False\n",
       "6    False\n",
       "7     True\n",
       "dtype: bool"
      ]
     },
     "execution_count": 41,
     "metadata": {},
     "output_type": "execute_result"
    }
   ],
   "source": [
    "# check duplicates\n",
    "df2.duplicated()"
   ]
  },
  {
   "cell_type": "code",
   "execution_count": 42,
   "id": "67ac762a",
   "metadata": {},
   "outputs": [
    {
     "data": {
      "text/plain": [
       "1"
      ]
     },
     "execution_count": 42,
     "metadata": {},
     "output_type": "execute_result"
    }
   ],
   "source": [
    "# How Many duplicates ?\n",
    "df2.duplicated().sum()"
   ]
  },
  {
   "cell_type": "code",
   "execution_count": 26,
   "id": "ea86e167",
   "metadata": {},
   "outputs": [
    {
     "data": {
      "text/plain": [
       "grades      7\n",
       "stu_name    8\n",
       "stu_id      8\n",
       "dtype: int64"
      ]
     },
     "execution_count": 26,
     "metadata": {},
     "output_type": "execute_result"
    }
   ],
   "source": [
    "# using count to check null\n",
    "df2.count()"
   ]
  },
  {
   "cell_type": "code",
   "execution_count": 27,
   "id": "3ef28df7",
   "metadata": {},
   "outputs": [
    {
     "data": {
      "text/plain": [
       "grades      1\n",
       "stu_name    0\n",
       "stu_id      0\n",
       "dtype: int64"
      ]
     },
     "execution_count": 27,
     "metadata": {},
     "output_type": "execute_result"
    }
   ],
   "source": [
    "# checking null\n",
    "df2.isnull().sum()"
   ]
  },
  {
   "cell_type": "markdown",
   "id": "6032c2db",
   "metadata": {},
   "source": [
    "<div class=\"alert alert-success\">\n",
    "<h1> Exercise:</h1><br>\n",
    "    \n",
    "\n",
    "<h3> Answer the following using code: <br><br>\n",
    "- Read a csv file named \"DataAnalysis_bootcamp.csv\":\n",
    "<br>\n",
    "- print number of rows in the dataset:\n"
   ]
  },
  {
   "cell_type": "code",
   "execution_count": 4,
   "id": "f7fa2f6a",
   "metadata": {},
   "outputs": [
    {
     "data": {
      "text/plain": [
       "7"
      ]
     },
     "execution_count": 4,
     "metadata": {},
     "output_type": "execute_result"
    }
   ],
   "source": [
    "# Read a csv file named \"DataAnalysis_bootcamp.csv\":\n",
    "quiz_df = pd.read_csv(\"DataAnalysis_bootcamp.csv\")\n",
    "\n",
    "# Show how many rows in the dataset:\n",
    "len(quiz_df)"
   ]
  },
  {
   "cell_type": "markdown",
   "id": "8d4e1d2f",
   "metadata": {},
   "source": [
    "## - Dealing with Columns, And Rows"
   ]
  },
  {
   "cell_type": "code",
   "execution_count": 50,
   "id": "534c19ce",
   "metadata": {},
   "outputs": [
    {
     "data": {
      "text/plain": [
       "75.0"
      ]
     },
     "execution_count": 50,
     "metadata": {},
     "output_type": "execute_result"
    }
   ],
   "source": [
    "# retrive specific column\n",
    "df2['grades']"
   ]
  },
  {
   "cell_type": "code",
   "execution_count": null,
   "id": "bfe26ca4",
   "metadata": {},
   "outputs": [],
   "source": [
    "df2.grades"
   ]
  },
  {
   "cell_type": "code",
   "execution_count": null,
   "id": "842ac24a",
   "metadata": {},
   "outputs": [],
   "source": [
    "# retrive more than one specific column\n",
    "df2[['grades','stu_id']]"
   ]
  },
  {
   "cell_type": "code",
   "execution_count": null,
   "id": "8f49db35",
   "metadata": {},
   "outputs": [],
   "source": [
    "# retrive specific column with a condition\n",
    "df2[(df2[\"grades\"] > 85) ]\n"
   ]
  },
  {
   "cell_type": "code",
   "execution_count": 33,
   "id": "57a08540",
   "metadata": {},
   "outputs": [
    {
     "data": {
      "text/html": [
       "<div>\n",
       "<style scoped>\n",
       "    .dataframe tbody tr th:only-of-type {\n",
       "        vertical-align: middle;\n",
       "    }\n",
       "\n",
       "    .dataframe tbody tr th {\n",
       "        vertical-align: top;\n",
       "    }\n",
       "\n",
       "    .dataframe thead th {\n",
       "        text-align: right;\n",
       "    }\n",
       "</style>\n",
       "<table border=\"1\" class=\"dataframe\">\n",
       "  <thead>\n",
       "    <tr style=\"text-align: right;\">\n",
       "      <th></th>\n",
       "      <th>grades</th>\n",
       "      <th>stu_name</th>\n",
       "      <th>stu_id</th>\n",
       "    </tr>\n",
       "  </thead>\n",
       "  <tbody>\n",
       "    <tr>\n",
       "      <th>2</th>\n",
       "      <td>88.0</td>\n",
       "      <td>Yazeed</td>\n",
       "      <td>203002</td>\n",
       "    </tr>\n",
       "    <tr>\n",
       "      <th>3</th>\n",
       "      <td>90.0</td>\n",
       "      <td>Saad</td>\n",
       "      <td>203003</td>\n",
       "    </tr>\n",
       "    <tr>\n",
       "      <th>4</th>\n",
       "      <td>86.0</td>\n",
       "      <td>Khalid</td>\n",
       "      <td>203004</td>\n",
       "    </tr>\n",
       "  </tbody>\n",
       "</table>\n",
       "</div>"
      ],
      "text/plain": [
       "   grades stu_name  stu_id\n",
       "2    88.0   Yazeed  203002\n",
       "3    90.0     Saad  203003\n",
       "4    86.0   Khalid  203004"
      ]
     },
     "execution_count": 33,
     "metadata": {},
     "output_type": "execute_result"
    }
   ],
   "source": [
    "# retrive specific columns with a multiple condition\n",
    "df2[ (df2['grades'] >= 85) & (df['grades'] <= 90) ]\n"
   ]
  },
  {
   "cell_type": "markdown",
   "id": "fb2e689a",
   "metadata": {},
   "source": [
    "### - Using loc"
   ]
  },
  {
   "cell_type": "code",
   "execution_count": 49,
   "id": "4065a31f",
   "metadata": {},
   "outputs": [
    {
     "data": {
      "text/html": [
       "<div>\n",
       "<style scoped>\n",
       "    .dataframe tbody tr th:only-of-type {\n",
       "        vertical-align: middle;\n",
       "    }\n",
       "\n",
       "    .dataframe tbody tr th {\n",
       "        vertical-align: top;\n",
       "    }\n",
       "\n",
       "    .dataframe thead th {\n",
       "        text-align: right;\n",
       "    }\n",
       "</style>\n",
       "<table border=\"1\" class=\"dataframe\">\n",
       "  <thead>\n",
       "    <tr style=\"text-align: right;\">\n",
       "      <th></th>\n",
       "      <th>grades</th>\n",
       "      <th>stu_name</th>\n",
       "      <th>stu_id</th>\n",
       "    </tr>\n",
       "  </thead>\n",
       "  <tbody>\n",
       "    <tr>\n",
       "      <th>0</th>\n",
       "      <td>75.0</td>\n",
       "      <td>Ahmed</td>\n",
       "      <td>203000</td>\n",
       "    </tr>\n",
       "    <tr>\n",
       "      <th>1</th>\n",
       "      <td>76.0</td>\n",
       "      <td>Faisal</td>\n",
       "      <td>203001</td>\n",
       "    </tr>\n",
       "    <tr>\n",
       "      <th>2</th>\n",
       "      <td>88.0</td>\n",
       "      <td>Yazeed</td>\n",
       "      <td>203002</td>\n",
       "    </tr>\n",
       "    <tr>\n",
       "      <th>3</th>\n",
       "      <td>90.0</td>\n",
       "      <td>Saad</td>\n",
       "      <td>203003</td>\n",
       "    </tr>\n",
       "    <tr>\n",
       "      <th>4</th>\n",
       "      <td>86.0</td>\n",
       "      <td>Khalid</td>\n",
       "      <td>203004</td>\n",
       "    </tr>\n",
       "    <tr>\n",
       "      <th>5</th>\n",
       "      <td>97.0</td>\n",
       "      <td>Mohammed</td>\n",
       "      <td>203005</td>\n",
       "    </tr>\n",
       "    <tr>\n",
       "      <th>6</th>\n",
       "      <td>NaN</td>\n",
       "      <td>Siraj</td>\n",
       "      <td>203006</td>\n",
       "    </tr>\n",
       "  </tbody>\n",
       "</table>\n",
       "</div>"
      ],
      "text/plain": [
       "   grades  stu_name  stu_id\n",
       "0    75.0     Ahmed  203000\n",
       "1    76.0    Faisal  203001\n",
       "2    88.0    Yazeed  203002\n",
       "3    90.0      Saad  203003\n",
       "4    86.0    Khalid  203004\n",
       "5    97.0  Mohammed  203005\n",
       "6     NaN     Siraj  203006"
      ]
     },
     "execution_count": 49,
     "metadata": {},
     "output_type": "execute_result"
    }
   ],
   "source": [
    "# using loc\n",
    "df2.loc[2:4]\n",
    "\n",
    "# using iloc and indexing\n",
    "\n",
    "df2.iloc[2:-1]\n",
    "# df2[\"grades\"].isnull()"
   ]
  },
  {
   "cell_type": "code",
   "execution_count": null,
   "id": "35caec34",
   "metadata": {},
   "outputs": [],
   "source": [
    "# checking null rows\n",
    "df2.loc[df2[\"grades\"].isnull()]"
   ]
  },
  {
   "cell_type": "code",
   "execution_count": null,
   "id": "af1f43ad",
   "metadata": {
    "scrolled": true
   },
   "outputs": [],
   "source": [
    "# Describe using loc\n",
    "df2.describe()"
   ]
  },
  {
   "cell_type": "code",
   "execution_count": null,
   "id": "47b8e168",
   "metadata": {},
   "outputs": [],
   "source": [
    "# using loc for columns and rows\n",
    "df2.loc['203000':,'grades']"
   ]
  },
  {
   "cell_type": "code",
   "execution_count": null,
   "id": "31b0a3b6",
   "metadata": {},
   "outputs": [],
   "source": [
    "# using loc for conditions\n",
    "\n",
    "df2.loc[(df['grades'] >= 85) & (df['grades'] <= 90)]"
   ]
  },
  {
   "cell_type": "markdown",
   "id": "858ddb9a",
   "metadata": {},
   "source": [
    "### - Using query"
   ]
  },
  {
   "cell_type": "code",
   "execution_count": null,
   "id": "7d2351d4",
   "metadata": {},
   "outputs": [],
   "source": [
    "# students who are greater than 85\n",
    "df2.query('grades >= 85')"
   ]
  },
  {
   "cell_type": "code",
   "execution_count": null,
   "id": "ab8e59e7",
   "metadata": {},
   "outputs": [],
   "source": [
    "# students who are greater than 85\n",
    "df2.query('grades >= 85 & grades <= 90' )"
   ]
  },
  {
   "cell_type": "code",
   "execution_count": null,
   "id": "d5d1236c",
   "metadata": {},
   "outputs": [],
   "source": [
    "# add rows to last index\n",
    "df2.loc[len(df2)] = [97, \"Mohammed\",203011]\n",
    "df2\n"
   ]
  },
  {
   "cell_type": "code",
   "execution_count": null,
   "id": "da94fc5d",
   "metadata": {
    "scrolled": true
   },
   "outputs": [],
   "source": [
    "# add new columns to last index\n",
    "df2['quiz1'] = ran.randint(0,10, size = df2.shape[0]) \n",
    "df2\n",
    "\n",
    "\n"
   ]
  },
  {
   "cell_type": "markdown",
   "id": "b82f1d42",
   "metadata": {},
   "source": [
    "###  Note:\n",
    "> Notice that there are contridictions in our data, lets clean our data"
   ]
  },
  {
   "cell_type": "markdown",
   "id": "a419a0e0",
   "metadata": {},
   "source": [
    "## - Cleaning"
   ]
  },
  {
   "cell_type": "code",
   "execution_count": null,
   "id": "f355fe9c",
   "metadata": {},
   "outputs": [],
   "source": [
    "# our dataframe\n",
    "df2"
   ]
  },
  {
   "cell_type": "code",
   "execution_count": null,
   "id": "a9b5a798",
   "metadata": {},
   "outputs": [],
   "source": [
    "# remove null values\n",
    "df2.dropna()"
   ]
  },
  {
   "cell_type": "code",
   "execution_count": null,
   "id": "0d8a2887",
   "metadata": {},
   "outputs": [],
   "source": [
    "# delete duplicates\n",
    "df2.drop_duplicates()"
   ]
  },
  {
   "cell_type": "code",
   "execution_count": null,
   "id": "526e67a5",
   "metadata": {},
   "outputs": [],
   "source": [
    "# check duplicated sums\n",
    "df2.duplicated().sum()"
   ]
  },
  {
   "cell_type": "code",
   "execution_count": null,
   "id": "fc979a4a",
   "metadata": {},
   "outputs": [],
   "source": [
    "# drop duplicates on specific row, such as stu_id:\n",
    "df2.drop_duplicates('stu_id', keep='last')"
   ]
  },
  {
   "cell_type": "code",
   "execution_count": null,
   "id": "86b86feb",
   "metadata": {},
   "outputs": [],
   "source": [
    "# change column data type\n",
    "df2.grades.astype('int')\n",
    "\n",
    "# to datetime using pd.to_datetime(df['column_name'])\n"
   ]
  },
  {
   "cell_type": "markdown",
   "id": "b2abd27a",
   "metadata": {},
   "source": [
    "## - Save Your New File"
   ]
  },
  {
   "cell_type": "code",
   "execution_count": null,
   "id": "a96a170b",
   "metadata": {},
   "outputs": [],
   "source": [
    "df2.to_csv('my_cleand_data.csv',index = False)"
   ]
  },
  {
   "cell_type": "code",
   "execution_count": null,
   "id": "a25051b9",
   "metadata": {},
   "outputs": [],
   "source": []
  },
  {
   "cell_type": "markdown",
   "id": "c45f88c9",
   "metadata": {},
   "source": [
    "# - SeaBorn\n",
    "> Seaborn Documentation: https://seaborn.pydata.org/tutorial/introduction.html"
   ]
  },
  {
   "cell_type": "code",
   "execution_count": 29,
   "id": "8818b18e",
   "metadata": {},
   "outputs": [
    {
     "data": {
      "text/plain": [
       "<AxesSubplot: ylabel='grades'>"
      ]
     },
     "execution_count": 29,
     "metadata": {},
     "output_type": "execute_result"
    },
    {
     "data": {
      "image/png": "[encoded data removed]",
      "text/plain": [
       "<Figure size 640x480 with 1 Axes>"
      ]
     },
     "metadata": {},
     "output_type": "display_data"
    }
   ],
   "source": [
    "# bar plots in seaBorn\n",
    "sns.boxplot(data = df2,y='grades')\n"
   ]
  },
  {
   "cell_type": "code",
   "execution_count": null,
   "id": "1b608a42",
   "metadata": {},
   "outputs": [],
   "source": [
    "#set grid and styles\n",
    "sns.set_style(\"darkgrid\")"
   ]
  },
  {
   "cell_type": "code",
   "execution_count": 30,
   "id": "137f2679",
   "metadata": {},
   "outputs": [
    {
     "data": {
      "image/png": "[encoded data removed]",
      "text/plain": [
       "<Figure size 640x480 with 1 Axes>"
      ]
     },
     "metadata": {},
     "output_type": "display_data"
    }
   ],
   "source": [
    "# set titles\n",
    "sns.boxplot(data = df2,y='grades')\n",
    "plt.ylabel(\"Grades\")\n",
    "plt.title(\"Distribution of grades\")\n",
    "plt.show()"
   ]
  },
  {
   "cell_type": "code",
   "execution_count": null,
   "id": "8c303280",
   "metadata": {},
   "outputs": [],
   "source": [
    "# set range\n",
    "sns.boxplot(data = df2,y='grades').set_yticks(range(75,101,2))"
   ]
  },
  {
   "cell_type": "code",
   "execution_count": 32,
   "id": "8f7c3054",
   "metadata": {},
   "outputs": [
    {
     "data": {
      "text/plain": [
       "<AxesSubplot: xlabel='stu_name', ylabel='grades'>"
      ]
     },
     "execution_count": 32,
     "metadata": {},
     "output_type": "execute_result"
    },
    {
     "data": {
      "image/png": "[encoded data removed]",
      "text/plain": [
       "<Figure size 640x480 with 1 Axes>"
      ]
     },
     "metadata": {},
     "output_type": "display_data"
    }
   ],
   "source": [
    "#bar plot\n",
    "sns.barplot(data = df2, x='stu_name', y='grades')"
   ]
  },
  {
   "cell_type": "code",
   "execution_count": null,
   "id": "7905c315",
   "metadata": {},
   "outputs": [],
   "source": [
    "# size of bar\n",
    "sns.barplot(data = df2, x='stu_name', y='grades', width = .5)"
   ]
  },
  {
   "cell_type": "code",
   "execution_count": null,
   "id": "afe6c743",
   "metadata": {},
   "outputs": [],
   "source": [
    "# figure size\n",
    "plt.subplots(figsize=(10,5))"
   ]
  },
  {
   "cell_type": "code",
   "execution_count": null,
   "id": "3c3f3859",
   "metadata": {},
   "outputs": [],
   "source": [
    "# set range\n",
    "sns.barplot(data = df2, x='stu_name', y='grades').set_yticks(range(0,101,10))"
   ]
  }
 ],
 "metadata": {
  "kernelspec": {
   "display_name": "Python 3 (ipykernel)",
   "language": "python",
   "name": "python3"
  },
  "language_info": {
   "codemirror_mode": {
    "name": "ipython",
    "version": 3
   },
   "file_extension": ".py",
   "mimetype": "text/x-python",
   "name": "python",
   "nbconvert_exporter": "python",
   "pygments_lexer": "ipython3",
   "version": "3.10.5"
  }
 },
 "nbformat": 4,
 "nbformat_minor": 5
}
